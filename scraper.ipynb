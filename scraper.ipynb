{
 "cells": [
  {
   "cell_type": "code",
   "execution_count": 34,
   "metadata": {},
   "outputs": [],
   "source": [
    "import requests\n",
    "from bs4 import BeautifulSoup\n",
    "import json\n",
    "import pandas"
   ]
  },
  {
   "cell_type": "code",
   "execution_count": 23,
   "metadata": {},
   "outputs": [],
   "source": [
    "import requests\n",
    "from bs4 import BeautifulSoup\n",
    "\n",
    "# Make a request to the website\n",
    "url = \"https://www.nba.com/game/bos-vs-dal-0042300404/play-by-play?latest=0&period=All\"\n",
    "response = requests.get(url)\n",
    "\n",
    "# Parse the HTML content\n",
    "soup = BeautifulSoup(response.content, \"html.parser\")\n",
    "\n",
    "plays = soup.find('script', {\"id\": '__NEXT_DATA__'})\n",
    "d = json.loads(plays.string)\n",
    "play_by_play = d['props']['pageProps']['playByPlay']['actions']"
   ]
  },
  {
   "cell_type": "code",
   "execution_count": 97,
   "metadata": {},
   "outputs": [],
   "source": [
    "k = 0\n",
    "\n",
    "\n",
    "def parse_game(link):\n",
    "\n",
    "    url = link + 'play-by-play?latest=0&period=All'\n",
    "\n",
    "    response = requests.get(url)\n",
    "\n",
    "    # Parse HTML with bs4\n",
    "    soup = BeautifulSoup(response.content, \"html.parser\")\n",
    "    plays = soup.find('script', {\"id\": '__NEXT_DATA__'})\n",
    "    d = json.loads(plays.string)\n",
    "    play_by_play = d['props']['pageProps']['playByPlay']['actions']\n",
    "\n",
    "    for play in play_by_play:\n",
    "        if play['actionType'] == 'Foul':\n",
    "            ref = play['description'].split()[-1]\n",
    "            foul_type = play['subType']\n",
    "            #print(ref[1:-1], foul_type)\n",
    "        \n",
    "\n",
    "        "
   ]
  },
  {
   "cell_type": "code",
   "execution_count": 103,
   "metadata": {},
   "outputs": [],
   "source": [
    "# Make a request to the website\n",
    "url = \"https://www.nba.com/games?date=2024-04-09\"\n",
    "\n",
    "def get_game_links(date):\n",
    "    # date: string formatted as yyyy-mm-dd\n",
    "\n",
    "    url = f\"https://www.nba.com/games?date={date}\"\n",
    "    response = requests.get(url)\n",
    "\n",
    "    # Parse HTML with bs4\n",
    "    soup = BeautifulSoup(response.content, \"html.parser\")\n",
    "    data = soup.find('script', {\"id\": '__NEXT_DATA__'})\n",
    "    d = json.loads(data.string) # bigass json stored as python dict \n",
    "    modules = d['props']['pageProps']['gameCardFeed']['modules']\n",
    "    if modules:\n",
    "        cards = d['props']['pageProps']['gameCardFeed']['modules'][0]['cards']\n",
    "        for card in cards:\n",
    "            url_chunk = card['cardData']['actions'][-1]['resourceLocator']['resourceUrl']\n",
    "            print(url_chunk)\n",
    "    else:\n",
    "        return"
   ]
  },
  {
   "cell_type": "code",
   "execution_count": 105,
   "metadata": {},
   "outputs": [],
   "source": [
    "get_game_links('2024-04-08')"
   ]
  },
  {
   "cell_type": "code",
   "execution_count": 100,
   "metadata": {},
   "outputs": [
    {
     "data": {
      "text/plain": [
       "[]"
      ]
     },
     "execution_count": 100,
     "metadata": {},
     "output_type": "execute_result"
    }
   ],
   "source": [
    "d['props']['pageProps']['gameCardFeed']['modules']"
   ]
  },
  {
   "cell_type": "code",
   "execution_count": 96,
   "metadata": {},
   "outputs": [
    {
     "name": "stdout",
     "output_type": "stream",
     "text": [
      "/game/phi-vs-nyk-0022300939\n",
      "/game/ind-vs-okc-0022300941\n",
      "/game/was-vs-mem-0022300940\n",
      "/game/hou-vs-sas-0022300942\n",
      "/game/bos-vs-uta-0022300943\n",
      "/game/mil-vs-sac-0022300945\n",
      "/game/min-vs-lac-0022300944\n"
     ]
    }
   ],
   "source": [
    "for card in cards:\n",
    "    url_chunk = card['cardData']['actions'][-1]['resourceLocator']['resourceUrl']\n",
    "    print(url_chunk)"
   ]
  },
  {
   "cell_type": "code",
   "execution_count": null,
   "metadata": {},
   "outputs": [],
   "source": []
  }
 ],
 "metadata": {
  "kernelspec": {
   "display_name": "base",
   "language": "python",
   "name": "python3"
  },
  "language_info": {
   "codemirror_mode": {
    "name": "ipython",
    "version": 3
   },
   "file_extension": ".py",
   "mimetype": "text/x-python",
   "name": "python",
   "nbconvert_exporter": "python",
   "pygments_lexer": "ipython3",
   "version": "3.8.8"
  }
 },
 "nbformat": 4,
 "nbformat_minor": 2
}
